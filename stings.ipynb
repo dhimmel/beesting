{
 "cells": [
  {
   "cell_type": "markdown",
   "metadata": {},
   "source": [
    "## Visualizing the painfulness of bee stings by location\n",
    "\n",
    "Data is from [Honey bee sting pain index by body location](https://dx.doi.org/10.7717/peerj.338) by [Michael L. Smith](https://sites.google.com/site/smithleemichael/)."
   ]
  },
  {
   "cell_type": "code",
   "execution_count": 1,
   "metadata": {
    "collapsed": false
   },
   "outputs": [],
   "source": [
    "import pandas\n",
    "import seaborn\n",
    "import matplotlib.pyplot\n",
    "\n",
    "%matplotlib inline"
   ]
  },
  {
   "cell_type": "code",
   "execution_count": 2,
   "metadata": {
    "collapsed": false
   },
   "outputs": [
    {
     "data": {
      "text/html": [
       "<div>\n",
       "<table border=\"1\" class=\"dataframe\">\n",
       "  <thead>\n",
       "    <tr style=\"text-align: right;\">\n",
       "      <th></th>\n",
       "      <th>Location</th>\n",
       "      <th>Side</th>\n",
       "      <th>Day</th>\n",
       "      <th>Time</th>\n",
       "      <th>Round</th>\n",
       "      <th>Pain</th>\n",
       "    </tr>\n",
       "  </thead>\n",
       "  <tbody>\n",
       "    <tr>\n",
       "      <th>0</th>\n",
       "      <td>Abdomen</td>\n",
       "      <td>L</td>\n",
       "      <td>8/27/2015</td>\n",
       "      <td>9:17</td>\n",
       "      <td>1st</td>\n",
       "      <td>6</td>\n",
       "    </tr>\n",
       "    <tr>\n",
       "      <th>1</th>\n",
       "      <td>Abdomen</td>\n",
       "      <td>R</td>\n",
       "      <td>9/13/2015</td>\n",
       "      <td>9:09</td>\n",
       "      <td>2nd</td>\n",
       "      <td>7</td>\n",
       "    </tr>\n",
       "    <tr>\n",
       "      <th>2</th>\n",
       "      <td>Abdomen</td>\n",
       "      <td>R</td>\n",
       "      <td>9/22/2015</td>\n",
       "      <td>9:09</td>\n",
       "      <td>3rd</td>\n",
       "      <td>7</td>\n",
       "    </tr>\n",
       "    <tr>\n",
       "      <th>3</th>\n",
       "      <td>Armpit</td>\n",
       "      <td>L</td>\n",
       "      <td>8/30/2015</td>\n",
       "      <td>9:10</td>\n",
       "      <td>1st</td>\n",
       "      <td>7</td>\n",
       "    </tr>\n",
       "    <tr>\n",
       "      <th>4</th>\n",
       "      <td>Armpit</td>\n",
       "      <td>R</td>\n",
       "      <td>9/11/2015</td>\n",
       "      <td>9:24</td>\n",
       "      <td>2nd</td>\n",
       "      <td>7</td>\n",
       "    </tr>\n",
       "  </tbody>\n",
       "</table>\n",
       "</div>"
      ],
      "text/plain": [
       "  Location Side        Day  Time Round  Pain\n",
       "0  Abdomen    L  8/27/2015  9:17   1st     6\n",
       "1  Abdomen    R  9/13/2015  9:09   2nd     7\n",
       "2  Abdomen    R  9/22/2015  9:09   3rd     7\n",
       "3   Armpit    L  8/30/2015  9:10   1st     7\n",
       "4   Armpit    R  9/11/2015  9:24   2nd     7"
      ]
     },
     "execution_count": 2,
     "metadata": {},
     "output_type": "execute_result"
    }
   ],
   "source": [
    "# Read data\n",
    "sting_df = pandas.read_table('data/stings.tsv')\n",
    "sting_df.head()"
   ]
  },
  {
   "cell_type": "code",
   "execution_count": 3,
   "metadata": {
    "collapsed": false
   },
   "outputs": [],
   "source": [
    "# Order locations by most to least painful\n",
    "order = list(sting_df.groupby('Location').mean().sort('Pain', ascending=False).index)"
   ]
  },
  {
   "cell_type": "code",
   "execution_count": 4,
   "metadata": {
    "collapsed": false
   },
   "outputs": [
    {
     "data": {
      "image/png": "[encoded data removed]",
      "text/plain": [
       "<matplotlib.figure.Figure at 0x7f9b46975dd8>"
      ]
     },
     "metadata": {},
     "output_type": "display_data"
    }
   ],
   "source": [
    "# Plot data\n",
    "matplotlib.pyplot.figure(figsize=(3, 5))\n",
    "ax = seaborn.stripplot(\n",
    "    x='Pain',\n",
    "    y='Location',\n",
    "    data=sting_df,\n",
    "    order=order,\n",
    "    alpha=0.5,\n",
    ")\n",
    "matplotlib.pyplot.ylabel('')\n",
    "matplotlib.pyplot.grid(True, axis='x')\n",
    "matplotlib.pyplot.grid(True, axis='y')\n",
    "matplotlib.pyplot.savefig('figure/locations.png', dpi=300, bbox_inches='tight')\n",
    "matplotlib.pyplot.savefig('figure/locations.svg', bbox_inches='tight')"
   ]
  }
 ],
 "metadata": {
  "kernelspec": {
   "display_name": "Python 3",
   "language": "python",
   "name": "python3"
  },
  "language_info": {
   "codemirror_mode": {
    "name": "ipython",
    "version": 3
   },
   "file_extension": ".py",
   "mimetype": "text/x-python",
   "name": "python",
   "nbconvert_exporter": "python",
   "pygments_lexer": "ipython3",
   "version": "3.4.3"
  }
 },
 "nbformat": 4,
 "nbformat_minor": 0
}
